{
 "cells": [
  {
   "cell_type": "markdown",
   "metadata": {},
   "source": [
    "## <center>Introduction to Python Programming – Mini Project</center>\n"
   ]
  },
  {
   "cell_type": "markdown",
   "metadata": {},
   "source": [
    "### Problem 1\n",
    "\n",
    "Write a program to calculate area of shapes. Your program should be capable of calculating the area of a square, rectangle, triangle and a circle. The user should be presented with options to select the shape. Based on which shape is chosen by the user, the program should ask for the appropriate input and print the resulting area on the screen.\n",
    "\n",
    "When the program is run, the screen should display something like this:\n",
    "\n",
    "**Which shape would you like to calculate the area for? Please enter the option number-**<br>\n",
    "**1. Square**<br>\n",
    "**2. Rectangle**<br>\n",
    "**3. Triangle**<br>\n",
    "**4. Circle**<br>\n",
    "**Enter Option: _**\n",
    "\n",
    "Say the user enters the option 1.\n",
    "\n",
    "**Please enter the length of a side: _**\n",
    "\n",
    "If the user enters a value of 5. The output should be:\n",
    "\n",
    "**The area of the square is 25**\n",
    "\n",
    "This program should indicate that the input is invalid if the user enters a character instead of a number as input. For instance if the user enters a value of ‘a’ instead of 5 in the previous example the program should prompt:\n",
    "\n",
    "**Invalid input, please enter a number: _**\n"
   ]
  },
  {
   "cell_type": "code",
   "execution_count": 4,
   "metadata": {},
   "outputs": [
    {
     "ename": "SyntaxError",
     "evalue": "cannot assign to operator (462861102.py, line 45)",
     "output_type": "error",
     "traceback": [
      "\u001b[0;36m  File \u001b[0;32m\"/var/folders/8p/jw7mx3fd2fn1t5p5n43mjmxh0000gp/T/ipykernel_12898/462861102.py\"\u001b[0;36m, line \u001b[0;32m45\u001b[0m\n\u001b[0;31m    L*H=A\u001b[0m\n\u001b[0m    ^\u001b[0m\n\u001b[0;31mSyntaxError\u001b[0m\u001b[0;31m:\u001b[0m cannot assign to operator\n"
     ]
    }
   ],
   "source": [
    "def Area():\n",
    "    selection=0\n",
    "    while selection !=4:\n",
    "        print ('1 = Area of Square')\n",
    "        print ('2 = Area of Recctangle')\n",
    "        print ('3 = Area of Triangle')\n",
    "        print ('4 = Area of Circle')\n",
    "        print ('5 = End')\n",
    "        \n",
    "        selection = int(input(\"Enter option: \"))\n",
    "        \n",
    "    if selection==1:\n",
    "        selection = Square()\n",
    "    elif selection==2:\n",
    "        selection = Rectangle()\n",
    "    elif selection==3:\n",
    "        selection = Triangle()\n",
    "    elif selection==4:\n",
    "        selection = Circle()\n",
    "    elif selection==5:\n",
    "        print('Program Ended')\n",
    "    else:\n",
    "        print('Wrong entry, try again')\n",
    "\n",
    "#Area of Square\n",
    "\n",
    "def Square():\n",
    "    length= int(input('Please enter the length of the side:'))\n",
    "\n",
    "    return A\n",
    "\n",
    "#Area of Rectangle\n",
    "\n",
    "def Rectangle():\n",
    "    length= int(input('Please enter the length of the side:'))\n",
    "    Width= int(input('Please enter the width of the side:'))\n",
    "   \n",
    "    return A\n",
    "    \n",
    "#Area of Triangle\n",
    "\n",
    "def Triangle():\n",
    "    L= int(input('Please enter the length of the base:'))\n",
    "    H= int(input('Please enter the length of the height:'))\n",
    "    L*H =A\n",
    "    A/2=B\n",
    "    return B\n",
    "\n",
    "#Area of Circle\n",
    "\n",
    "def Circle():\n",
    "    length= int(input('Please enter the length of the radius:'))\n",
    "    length=x**2\n",
    "    x=y*3.14\n",
    "    return y\n"
   ]
  },
  {
   "cell_type": "markdown",
   "metadata": {},
   "source": [
    "### Problem 2\n",
    "\n",
    "You have newly joined an organization abc.com. Write a python function that will take your 1st and last name as input and print the official mail as which has a format like firstname.lastname@abc.com\n",
    "\n",
    "When the program is run, the screen should display something like this:\n",
    "\n",
    "Enter your first name: nikhil\n",
    "\n",
    "Enter your last name: agrawal\n",
    "\n",
    "You official email id is nikhil.agrawal@abc.com \n",
    "\n",
    "**Hint:** use string concatenation."
   ]
  },
  {
   "cell_type": "code",
   "execution_count": null,
   "metadata": {},
   "outputs": [],
   "source": []
  }
 ],
 "metadata": {
  "kernelspec": {
   "display_name": "Python 3 (ipykernel)",
   "language": "python",
   "name": "python3"
  },
  "language_info": {
   "codemirror_mode": {
    "name": "ipython",
    "version": 3
   },
   "file_extension": ".py",
   "mimetype": "text/x-python",
   "name": "python",
   "nbconvert_exporter": "python",
   "pygments_lexer": "ipython3",
   "version": "3.9.7"
  }
 },
 "nbformat": 4,
 "nbformat_minor": 2
}
